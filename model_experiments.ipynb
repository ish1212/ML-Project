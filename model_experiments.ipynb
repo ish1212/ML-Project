{
 "cells": [
  {
   "cell_type": "code",
   "execution_count": 5,
   "metadata": {},
   "outputs": [],
   "source": [
    "import tensorflow as tf\n",
    "tf.reset_default_graph()"
   ]
  },
  {
   "cell_type": "code",
   "execution_count": 6,
   "metadata": {
    "collapsed": true
   },
   "outputs": [],
   "source": [
    "import numpy as np\n",
    "wordsList = np.load('wordsList.npy').tolist()\n",
    "wordsList = [word.decode('UTF-8') for word in wordsList] #Encode words as UTF-8\n",
    "wordVectors = np.load('wordVectors.npy')"
   ]
  },
  {
   "cell_type": "code",
   "execution_count": 17,
   "metadata": {},
   "outputs": [
    {
     "data": {
      "text/plain": [
       "(400000, 50)"
      ]
     },
     "execution_count": 17,
     "metadata": {},
     "output_type": "execute_result"
    }
   ],
   "source": [
    "wordVectors.shape"
   ]
  },
  {
   "cell_type": "code",
   "execution_count": 7,
   "metadata": {
    "collapsed": true
   },
   "outputs": [],
   "source": [
    "numDimensions = 300\n",
    "maxSeqLength = 200\n",
    "batchSize = 24\n",
    "lstmUnits = 64\n",
    "numClasses = 53\n",
    "iterations = 100000"
   ]
  },
  {
   "cell_type": "code",
   "execution_count": 8,
   "metadata": {},
   "outputs": [],
   "source": [
    "labels = tf.placeholder(tf.float32, [batchSize, numClasses])\n",
    "input_data = tf.placeholder(tf.int32, [batchSize, maxSeqLength])\n",
    "\n",
    "data = tf.Variable(tf.zeros([batchSize, maxSeqLength, numDimensions]),dtype=tf.float32)\n",
    "data = tf.nn.embedding_lookup(wordVectors,input_data)\n",
    "\n",
    "lstmCell = tf.contrib.rnn.BasicLSTMCell(lstmUnits)\n",
    "lstmCell = tf.contrib.rnn.DropoutWrapper(cell=lstmCell, output_keep_prob=0.25)\n",
    "value, _ = tf.nn.dynamic_rnn(lstmCell, data, dtype=tf.float32)\n",
    "\n",
    "weight = tf.Variable(tf.truncated_normal([lstmUnits, numClasses]))\n",
    "bias = tf.Variable(tf.constant(0.1, shape=[numClasses]))\n",
    "value = tf.transpose(value, [1, 0, 2])\n",
    "last = tf.gather(value, int(value.get_shape()[0]) - 1)\n",
    "prediction = (tf.matmul(last, weight) + bias)\n",
    "\n",
    "correctPred = tf.equal(tf.argmax(prediction,1), tf.argmax(labels,1))\n",
    "accuracy = tf.reduce_mean(tf.cast(correctPred, tf.float32))"
   ]
  },
  {
   "cell_type": "code",
   "execution_count": 12,
   "metadata": {},
   "outputs": [],
   "source": [
    "# sess = tf.InteractiveSession()\n",
    "# saver = tf.train.Saver()\n",
    "\n",
    "\n",
    "# saver = tf.train.import_meta_graph('models/pretrained_lstm.ckpt-90000.meta')\n",
    "# saver.restore(sess,tf.train.latest_checkpoint('models'))"
   ]
  },
  {
   "cell_type": "code",
   "execution_count": 11,
   "metadata": {},
   "outputs": [
    {
     "data": {
      "text/plain": [
       "[<tf.Operation 'Placeholder' type=Placeholder>,\n",
       " <tf.Operation 'Placeholder_1' type=Placeholder>,\n",
       " <tf.Operation 'zeros' type=Const>,\n",
       " <tf.Operation 'Variable' type=VariableV2>,\n",
       " <tf.Operation 'Variable/Assign' type=Assign>,\n",
       " <tf.Operation 'Variable/read' type=Identity>,\n",
       " <tf.Operation 'embedding_lookup/params_0' type=Const>,\n",
       " <tf.Operation 'embedding_lookup' type=Gather>,\n",
       " <tf.Operation 'DropoutWrapperInit/Const' type=Const>,\n",
       " <tf.Operation 'DropoutWrapperInit/Const_1' type=Const>,\n",
       " <tf.Operation 'DropoutWrapperInit/Const_2' type=Const>,\n",
       " <tf.Operation 'Rank' type=Const>,\n",
       " <tf.Operation 'range/start' type=Const>,\n",
       " <tf.Operation 'range/delta' type=Const>,\n",
       " <tf.Operation 'range' type=Range>,\n",
       " <tf.Operation 'concat/values_0' type=Const>,\n",
       " <tf.Operation 'concat/axis' type=Const>,\n",
       " <tf.Operation 'concat' type=ConcatV2>,\n",
       " <tf.Operation 'transpose' type=Transpose>,\n",
       " <tf.Operation 'rnn/DropoutWrapperZeroState/BasicLSTMCellZeroState/Const' type=Const>,\n",
       " <tf.Operation 'rnn/DropoutWrapperZeroState/BasicLSTMCellZeroState/Const_1' type=Const>,\n",
       " <tf.Operation 'rnn/DropoutWrapperZeroState/BasicLSTMCellZeroState/concat/axis' type=Const>,\n",
       " <tf.Operation 'rnn/DropoutWrapperZeroState/BasicLSTMCellZeroState/concat' type=ConcatV2>,\n",
       " <tf.Operation 'rnn/DropoutWrapperZeroState/BasicLSTMCellZeroState/zeros/Const' type=Const>,\n",
       " <tf.Operation 'rnn/DropoutWrapperZeroState/BasicLSTMCellZeroState/zeros' type=Fill>,\n",
       " <tf.Operation 'rnn/DropoutWrapperZeroState/BasicLSTMCellZeroState/Const_2' type=Const>,\n",
       " <tf.Operation 'rnn/DropoutWrapperZeroState/BasicLSTMCellZeroState/Const_3' type=Const>,\n",
       " <tf.Operation 'rnn/DropoutWrapperZeroState/BasicLSTMCellZeroState/Const_4' type=Const>,\n",
       " <tf.Operation 'rnn/DropoutWrapperZeroState/BasicLSTMCellZeroState/Const_5' type=Const>,\n",
       " <tf.Operation 'rnn/DropoutWrapperZeroState/BasicLSTMCellZeroState/concat_1/axis' type=Const>,\n",
       " <tf.Operation 'rnn/DropoutWrapperZeroState/BasicLSTMCellZeroState/concat_1' type=ConcatV2>,\n",
       " <tf.Operation 'rnn/DropoutWrapperZeroState/BasicLSTMCellZeroState/zeros_1/Const' type=Const>,\n",
       " <tf.Operation 'rnn/DropoutWrapperZeroState/BasicLSTMCellZeroState/zeros_1' type=Fill>,\n",
       " <tf.Operation 'rnn/DropoutWrapperZeroState/BasicLSTMCellZeroState/Const_6' type=Const>,\n",
       " <tf.Operation 'rnn/DropoutWrapperZeroState/BasicLSTMCellZeroState/Const_7' type=Const>,\n",
       " <tf.Operation 'rnn/Shape' type=Const>,\n",
       " <tf.Operation 'rnn/strided_slice/stack' type=Const>,\n",
       " <tf.Operation 'rnn/strided_slice/stack_1' type=Const>,\n",
       " <tf.Operation 'rnn/strided_slice/stack_2' type=Const>,\n",
       " <tf.Operation 'rnn/strided_slice' type=StridedSlice>,\n",
       " <tf.Operation 'rnn/Const' type=Const>,\n",
       " <tf.Operation 'rnn/Const_1' type=Const>,\n",
       " <tf.Operation 'rnn/concat/axis' type=Const>,\n",
       " <tf.Operation 'rnn/concat' type=ConcatV2>,\n",
       " <tf.Operation 'rnn/zeros/Const' type=Const>,\n",
       " <tf.Operation 'rnn/zeros' type=Fill>,\n",
       " <tf.Operation 'rnn/time' type=Const>,\n",
       " <tf.Operation 'rnn/TensorArray' type=TensorArrayV3>,\n",
       " <tf.Operation 'rnn/TensorArray_1' type=TensorArrayV3>,\n",
       " <tf.Operation 'rnn/TensorArrayUnstack/Shape' type=Const>,\n",
       " <tf.Operation 'rnn/TensorArrayUnstack/strided_slice/stack' type=Const>,\n",
       " <tf.Operation 'rnn/TensorArrayUnstack/strided_slice/stack_1' type=Const>,\n",
       " <tf.Operation 'rnn/TensorArrayUnstack/strided_slice/stack_2' type=Const>,\n",
       " <tf.Operation 'rnn/TensorArrayUnstack/strided_slice' type=StridedSlice>,\n",
       " <tf.Operation 'rnn/TensorArrayUnstack/range/start' type=Const>,\n",
       " <tf.Operation 'rnn/TensorArrayUnstack/range/delta' type=Const>,\n",
       " <tf.Operation 'rnn/TensorArrayUnstack/range' type=Range>,\n",
       " <tf.Operation 'rnn/TensorArrayUnstack/TensorArrayScatter/TensorArrayScatterV3' type=TensorArrayScatterV3>,\n",
       " <tf.Operation 'rnn/while/Enter' type=Enter>,\n",
       " <tf.Operation 'rnn/while/Enter_1' type=Enter>,\n",
       " <tf.Operation 'rnn/while/Enter_2' type=Enter>,\n",
       " <tf.Operation 'rnn/while/Enter_3' type=Enter>,\n",
       " <tf.Operation 'rnn/while/Merge' type=Merge>,\n",
       " <tf.Operation 'rnn/while/Merge_1' type=Merge>,\n",
       " <tf.Operation 'rnn/while/Merge_2' type=Merge>,\n",
       " <tf.Operation 'rnn/while/Merge_3' type=Merge>,\n",
       " <tf.Operation 'rnn/while/Less/Enter' type=Enter>,\n",
       " <tf.Operation 'rnn/while/Less' type=Less>,\n",
       " <tf.Operation 'rnn/while/LoopCond' type=LoopCond>,\n",
       " <tf.Operation 'rnn/while/Switch' type=Switch>,\n",
       " <tf.Operation 'rnn/while/Switch_1' type=Switch>,\n",
       " <tf.Operation 'rnn/while/Switch_2' type=Switch>,\n",
       " <tf.Operation 'rnn/while/Switch_3' type=Switch>,\n",
       " <tf.Operation 'rnn/while/Identity' type=Identity>,\n",
       " <tf.Operation 'rnn/while/Identity_1' type=Identity>,\n",
       " <tf.Operation 'rnn/while/Identity_2' type=Identity>,\n",
       " <tf.Operation 'rnn/while/Identity_3' type=Identity>,\n",
       " <tf.Operation 'rnn/while/TensorArrayReadV3/Enter' type=Enter>,\n",
       " <tf.Operation 'rnn/while/TensorArrayReadV3/Enter_1' type=Enter>,\n",
       " <tf.Operation 'rnn/while/TensorArrayReadV3' type=TensorArrayReadV3>,\n",
       " <tf.Operation 'rnn/basic_lstm_cell/kernel/Initializer/random_uniform/shape' type=Const>,\n",
       " <tf.Operation 'rnn/basic_lstm_cell/kernel/Initializer/random_uniform/min' type=Const>,\n",
       " <tf.Operation 'rnn/basic_lstm_cell/kernel/Initializer/random_uniform/max' type=Const>,\n",
       " <tf.Operation 'rnn/basic_lstm_cell/kernel/Initializer/random_uniform/RandomUniform' type=RandomUniform>,\n",
       " <tf.Operation 'rnn/basic_lstm_cell/kernel/Initializer/random_uniform/sub' type=Sub>,\n",
       " <tf.Operation 'rnn/basic_lstm_cell/kernel/Initializer/random_uniform/mul' type=Mul>,\n",
       " <tf.Operation 'rnn/basic_lstm_cell/kernel/Initializer/random_uniform' type=Add>,\n",
       " <tf.Operation 'rnn/basic_lstm_cell/kernel' type=VariableV2>,\n",
       " <tf.Operation 'rnn/basic_lstm_cell/kernel/Assign' type=Assign>,\n",
       " <tf.Operation 'rnn/basic_lstm_cell/kernel/read' type=Identity>,\n",
       " <tf.Operation 'rnn/basic_lstm_cell/bias/Initializer/Const' type=Const>,\n",
       " <tf.Operation 'rnn/basic_lstm_cell/bias' type=VariableV2>,\n",
       " <tf.Operation 'rnn/basic_lstm_cell/bias/Assign' type=Assign>,\n",
       " <tf.Operation 'rnn/basic_lstm_cell/bias/read' type=Identity>,\n",
       " <tf.Operation 'rnn/while/rnn/basic_lstm_cell/concat/axis' type=Const>,\n",
       " <tf.Operation 'rnn/while/rnn/basic_lstm_cell/concat' type=ConcatV2>,\n",
       " <tf.Operation 'rnn/while/rnn/basic_lstm_cell/MatMul/Enter' type=Enter>,\n",
       " <tf.Operation 'rnn/while/rnn/basic_lstm_cell/MatMul' type=MatMul>,\n",
       " <tf.Operation 'rnn/while/rnn/basic_lstm_cell/BiasAdd/Enter' type=Enter>,\n",
       " <tf.Operation 'rnn/while/rnn/basic_lstm_cell/BiasAdd' type=BiasAdd>,\n",
       " <tf.Operation 'rnn/while/rnn/basic_lstm_cell/Const' type=Const>,\n",
       " <tf.Operation 'rnn/while/rnn/basic_lstm_cell/split/split_dim' type=Const>,\n",
       " <tf.Operation 'rnn/while/rnn/basic_lstm_cell/split' type=Split>,\n",
       " <tf.Operation 'rnn/while/rnn/basic_lstm_cell/add/y' type=Const>,\n",
       " <tf.Operation 'rnn/while/rnn/basic_lstm_cell/add' type=Add>,\n",
       " <tf.Operation 'rnn/while/rnn/basic_lstm_cell/Sigmoid' type=Sigmoid>,\n",
       " <tf.Operation 'rnn/while/rnn/basic_lstm_cell/mul' type=Mul>,\n",
       " <tf.Operation 'rnn/while/rnn/basic_lstm_cell/Sigmoid_1' type=Sigmoid>,\n",
       " <tf.Operation 'rnn/while/rnn/basic_lstm_cell/Tanh' type=Tanh>,\n",
       " <tf.Operation 'rnn/while/rnn/basic_lstm_cell/mul_1' type=Mul>,\n",
       " <tf.Operation 'rnn/while/rnn/basic_lstm_cell/add_1' type=Add>,\n",
       " <tf.Operation 'rnn/while/rnn/basic_lstm_cell/Tanh_1' type=Tanh>,\n",
       " <tf.Operation 'rnn/while/rnn/basic_lstm_cell/Sigmoid_2' type=Sigmoid>,\n",
       " <tf.Operation 'rnn/while/rnn/basic_lstm_cell/mul_2' type=Mul>,\n",
       " <tf.Operation 'rnn/while/dropout/keep_prob' type=Const>,\n",
       " <tf.Operation 'rnn/while/dropout/Shape' type=Const>,\n",
       " <tf.Operation 'rnn/while/dropout/random_uniform/min' type=Const>,\n",
       " <tf.Operation 'rnn/while/dropout/random_uniform/max' type=Const>,\n",
       " <tf.Operation 'rnn/while/dropout/random_uniform/RandomUniform' type=RandomUniform>,\n",
       " <tf.Operation 'rnn/while/dropout/random_uniform/sub' type=Sub>,\n",
       " <tf.Operation 'rnn/while/dropout/random_uniform/mul' type=Mul>,\n",
       " <tf.Operation 'rnn/while/dropout/random_uniform' type=Add>,\n",
       " <tf.Operation 'rnn/while/dropout/add' type=Add>,\n",
       " <tf.Operation 'rnn/while/dropout/Floor' type=Floor>,\n",
       " <tf.Operation 'rnn/while/dropout/div' type=RealDiv>,\n",
       " <tf.Operation 'rnn/while/dropout/mul' type=Mul>,\n",
       " <tf.Operation 'rnn/while/TensorArrayWrite/TensorArrayWriteV3/Enter' type=Enter>,\n",
       " <tf.Operation 'rnn/while/TensorArrayWrite/TensorArrayWriteV3' type=TensorArrayWriteV3>,\n",
       " <tf.Operation 'rnn/while/add/y' type=Const>,\n",
       " <tf.Operation 'rnn/while/add' type=Add>,\n",
       " <tf.Operation 'rnn/while/NextIteration' type=NextIteration>,\n",
       " <tf.Operation 'rnn/while/NextIteration_1' type=NextIteration>,\n",
       " <tf.Operation 'rnn/while/NextIteration_2' type=NextIteration>,\n",
       " <tf.Operation 'rnn/while/NextIteration_3' type=NextIteration>,\n",
       " <tf.Operation 'rnn/while/Exit' type=Exit>,\n",
       " <tf.Operation 'rnn/while/Exit_1' type=Exit>,\n",
       " <tf.Operation 'rnn/while/Exit_2' type=Exit>,\n",
       " <tf.Operation 'rnn/while/Exit_3' type=Exit>,\n",
       " <tf.Operation 'rnn/TensorArrayStack/TensorArraySizeV3' type=TensorArraySizeV3>,\n",
       " <tf.Operation 'rnn/TensorArrayStack/range/start' type=Const>,\n",
       " <tf.Operation 'rnn/TensorArrayStack/range/delta' type=Const>,\n",
       " <tf.Operation 'rnn/TensorArrayStack/range' type=Range>,\n",
       " <tf.Operation 'rnn/TensorArrayStack/TensorArrayGatherV3' type=TensorArrayGatherV3>,\n",
       " <tf.Operation 'rnn/Const_2' type=Const>,\n",
       " <tf.Operation 'rnn/Const_3' type=Const>,\n",
       " <tf.Operation 'rnn/Rank' type=Const>,\n",
       " <tf.Operation 'rnn/range/start' type=Const>,\n",
       " <tf.Operation 'rnn/range/delta' type=Const>,\n",
       " <tf.Operation 'rnn/range' type=Range>,\n",
       " <tf.Operation 'rnn/concat_1/values_0' type=Const>,\n",
       " <tf.Operation 'rnn/concat_1/axis' type=Const>,\n",
       " <tf.Operation 'rnn/concat_1' type=ConcatV2>,\n",
       " <tf.Operation 'rnn/transpose' type=Transpose>,\n",
       " <tf.Operation 'truncated_normal/shape' type=Const>,\n",
       " <tf.Operation 'truncated_normal/mean' type=Const>,\n",
       " <tf.Operation 'truncated_normal/stddev' type=Const>,\n",
       " <tf.Operation 'truncated_normal/TruncatedNormal' type=TruncatedNormal>,\n",
       " <tf.Operation 'truncated_normal/mul' type=Mul>,\n",
       " <tf.Operation 'truncated_normal' type=Add>,\n",
       " <tf.Operation 'Variable_1' type=VariableV2>,\n",
       " <tf.Operation 'Variable_1/Assign' type=Assign>,\n",
       " <tf.Operation 'Variable_1/read' type=Identity>,\n",
       " <tf.Operation 'Const' type=Const>,\n",
       " <tf.Operation 'Variable_2' type=VariableV2>,\n",
       " <tf.Operation 'Variable_2/Assign' type=Assign>,\n",
       " <tf.Operation 'Variable_2/read' type=Identity>,\n",
       " <tf.Operation 'transpose_1/perm' type=Const>,\n",
       " <tf.Operation 'transpose_1' type=Transpose>,\n",
       " <tf.Operation 'Gather/indices' type=Const>,\n",
       " <tf.Operation 'Gather' type=Gather>,\n",
       " <tf.Operation 'MatMul' type=MatMul>,\n",
       " <tf.Operation 'add' type=Add>,\n",
       " <tf.Operation 'ArgMax/dimension' type=Const>,\n",
       " <tf.Operation 'ArgMax' type=ArgMax>,\n",
       " <tf.Operation 'ArgMax_1/dimension' type=Const>,\n",
       " <tf.Operation 'ArgMax_1' type=ArgMax>,\n",
       " <tf.Operation 'Equal' type=Equal>,\n",
       " <tf.Operation 'Cast' type=Cast>,\n",
       " <tf.Operation 'Const_1' type=Const>,\n",
       " <tf.Operation 'Mean' type=Mean>,\n",
       " <tf.Operation 'save/Const' type=Const>,\n",
       " <tf.Operation 'save/SaveV2/tensor_names' type=Const>,\n",
       " <tf.Operation 'save/SaveV2/shape_and_slices' type=Const>,\n",
       " <tf.Operation 'save/SaveV2' type=SaveV2>,\n",
       " <tf.Operation 'save/control_dependency' type=Identity>,\n",
       " <tf.Operation 'save/RestoreV2/tensor_names' type=Const>,\n",
       " <tf.Operation 'save/RestoreV2/shape_and_slices' type=Const>,\n",
       " <tf.Operation 'save/RestoreV2' type=RestoreV2>,\n",
       " <tf.Operation 'save/Assign' type=Assign>,\n",
       " <tf.Operation 'save/RestoreV2_1/tensor_names' type=Const>,\n",
       " <tf.Operation 'save/RestoreV2_1/shape_and_slices' type=Const>,\n",
       " <tf.Operation 'save/RestoreV2_1' type=RestoreV2>,\n",
       " <tf.Operation 'save/Assign_1' type=Assign>,\n",
       " <tf.Operation 'save/RestoreV2_2/tensor_names' type=Const>,\n",
       " <tf.Operation 'save/RestoreV2_2/shape_and_slices' type=Const>,\n",
       " <tf.Operation 'save/RestoreV2_2' type=RestoreV2>,\n",
       " <tf.Operation 'save/Assign_2' type=Assign>,\n",
       " <tf.Operation 'save/RestoreV2_3/tensor_names' type=Const>,\n",
       " <tf.Operation 'save/RestoreV2_3/shape_and_slices' type=Const>,\n",
       " <tf.Operation 'save/RestoreV2_3' type=RestoreV2>,\n",
       " <tf.Operation 'save/Assign_3' type=Assign>,\n",
       " <tf.Operation 'save/RestoreV2_4/tensor_names' type=Const>,\n",
       " <tf.Operation 'save/RestoreV2_4/shape_and_slices' type=Const>,\n",
       " <tf.Operation 'save/RestoreV2_4' type=RestoreV2>,\n",
       " <tf.Operation 'save/Assign_4' type=Assign>,\n",
       " <tf.Operation 'save/restore_all' type=NoOp>]"
      ]
     },
     "execution_count": 11,
     "metadata": {},
     "output_type": "execute_result"
    }
   ],
   "source": [
    "g = tf.get_default_graph()\n",
    "g.get_operations()"
   ]
  },
  {
   "cell_type": "code",
   "execution_count": 13,
   "metadata": {},
   "outputs": [
    {
     "data": {
      "text/plain": [
       "[<tf.Variable 'Variable:0' shape=(24, 200, 300) dtype=float32_ref>,\n",
       " <tf.Variable 'rnn/basic_lstm_cell/kernel:0' shape=(114, 256) dtype=float32_ref>,\n",
       " <tf.Variable 'rnn/basic_lstm_cell/bias:0' shape=(256,) dtype=float32_ref>,\n",
       " <tf.Variable 'Variable_1:0' shape=(64, 53) dtype=float32_ref>,\n",
       " <tf.Variable 'Variable_2:0' shape=(53,) dtype=float32_ref>]"
      ]
     },
     "execution_count": 13,
     "metadata": {},
     "output_type": "execute_result"
    }
   ],
   "source": [
    "tf.get_collection(tf.GraphKeys.TRAINABLE_VARIABLES)"
   ]
  },
  {
   "cell_type": "code",
   "execution_count": 15,
   "metadata": {},
   "outputs": [
    {
     "data": {
      "text/plain": [
       "[<tf.Variable 'Variable:0' shape=(24, 200, 300) dtype=float32_ref>,\n",
       " <tf.Variable 'rnn/basic_lstm_cell/kernel:0' shape=(114, 256) dtype=float32_ref>,\n",
       " <tf.Variable 'rnn/basic_lstm_cell/bias:0' shape=(256,) dtype=float32_ref>,\n",
       " <tf.Variable 'Variable_1:0' shape=(64, 53) dtype=float32_ref>,\n",
       " <tf.Variable 'Variable_2:0' shape=(53,) dtype=float32_ref>]"
      ]
     },
     "execution_count": 15,
     "metadata": {},
     "output_type": "execute_result"
    }
   ],
   "source": [
    "tf.global_variables()"
   ]
  },
  {
   "cell_type": "code",
   "execution_count": null,
   "metadata": {
    "collapsed": true
   },
   "outputs": [],
   "source": [
    "import numpy as np\n",
    "def loadGloveModel(gloveFile):\n",
    "    print \"Loading Glove Model\"\n",
    "    f = open(gloveFile,'r')\n",
    "    model = {}\n",
    "    for line in f:\n",
    "        splitLine = line.split()\n",
    "        word = splitLine[0]\n",
    "        embedding = np.array([float(val) for val in splitLine[1:]])\n",
    "        model[word] = embedding\n",
    "    print \"Done.\",len(model),\" words loaded!\"\n",
    "    return model"
   ]
  }
 ],
 "metadata": {
  "kernelspec": {
   "display_name": "Python 3",
   "language": "python",
   "name": "python3"
  },
  "language_info": {
   "codemirror_mode": {
    "name": "ipython",
    "version": 3
   },
   "file_extension": ".py",
   "mimetype": "text/x-python",
   "name": "python",
   "nbconvert_exporter": "python",
   "pygments_lexer": "ipython3",
   "version": "3.6.1"
  }
 },
 "nbformat": 4,
 "nbformat_minor": 2
}
