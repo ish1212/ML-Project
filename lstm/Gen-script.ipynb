{
 "cells": [
  {
   "cell_type": "code",
   "execution_count": 1,
   "metadata": {},
   "outputs": [
    {
     "name": "stderr",
     "output_type": "stream",
     "text": [
      "Using TensorFlow backend.\n"
     ]
    }
   ],
   "source": [
    "from __future__ import print_function\n",
    "from keras.callbacks import LambdaCallback\n",
    "from keras.models import Sequential\n",
    "from keras.layers import Dense, Activation\n",
    "from keras.layers import LSTM\n",
    "from keras.optimizers import RMSprop\n",
    "from keras.utils.data_utils import get_file\n",
    "import numpy as np\n",
    "import random\n",
    "import sys\n",
    "import io"
   ]
  },
  {
   "cell_type": "code",
   "execution_count": 2,
   "metadata": {},
   "outputs": [],
   "source": [
    "wordlist = np.load('wordsList.npy')"
   ]
  },
  {
   "cell_type": "code",
   "execution_count": 3,
   "metadata": {
    "collapsed": true
   },
   "outputs": [],
   "source": [
    "int_to_char = np.load('int_to_char.npy')\n",
    "char_to_int = np.load('char_to_int.npy')\n",
    "\n",
    "int_to_char = int_to_char.item()\n",
    "char_to_int = char_to_int.item()\n",
    "\n",
    "sequences = np.load('sequences.npy')\n",
    "next_seq = np.load('next_seq.npy')"
   ]
  },
  {
   "cell_type": "code",
   "execution_count": 4,
   "metadata": {
    "collapsed": true
   },
   "outputs": [],
   "source": [
    "max_word = np.asarray(next_seq.max())\n",
    "maxlen = 4"
   ]
  },
  {
   "cell_type": "code",
   "execution_count": 5,
   "metadata": {
    "collapsed": true
   },
   "outputs": [],
   "source": [
    "from keras.utils import to_categorical"
   ]
  },
  {
   "cell_type": "code",
   "execution_count": 6,
   "metadata": {},
   "outputs": [],
   "source": [
    "# reshape X to be [samples, time steps, features]\n",
    "X = np.reshape(sequences, (len(sequences), maxlen, 1))\n",
    "# normalize\n",
    "X = X / float(next_seq.max())\n",
    "# one hot encode the output variable\n",
    "y = to_categorical(next_seq)"
   ]
  },
  {
   "cell_type": "code",
   "execution_count": 7,
   "metadata": {},
   "outputs": [
    {
     "name": "stdout",
     "output_type": "stream",
     "text": [
      "Build model...\n"
     ]
    }
   ],
   "source": [
    "# build the model: a single LSTM\n",
    "print('Build model...')\n",
    "model = Sequential()\n",
    "model.add(LSTM(128, input_shape=(X.shape[1], X.shape[2])))\n",
    "\n",
    "model.add(Dense(y.shape[1]))\n",
    "model.add(Activation('softmax'))\n",
    "\n",
    "optimizer = RMSprop(lr=0.01)\n",
    "model.compile(loss='categorical_crossentropy', optimizer=optimizer)"
   ]
  },
  {
   "cell_type": "code",
   "execution_count": 8,
   "metadata": {
    "collapsed": true
   },
   "outputs": [],
   "source": [
    "def sample(preds, temperature=1.0):\n",
    "    # helper function to sample an index from a probability array\n",
    "    preds = np.asarray(preds).astype('float64')\n",
    "    preds = np.log(preds) / temperature\n",
    "    exp_preds = np.exp(preds)\n",
    "    preds = exp_preds / np.sum(exp_preds)\n",
    "    probas = np.random.multinomial(1, preds, 1)\n",
    "    return np.argmax(probas)"
   ]
  },
  {
   "cell_type": "code",
   "execution_count": 9,
   "metadata": {
    "collapsed": true
   },
   "outputs": [],
   "source": [
    "text = np.ndarray.flatten(sequences)"
   ]
  },
  {
   "cell_type": "code",
   "execution_count": 10,
   "metadata": {
    "collapsed": true
   },
   "outputs": [],
   "source": [
    "def on_epoch_end(epoch, logs):\n",
    "    # Function invoked at end of each epoch. Prints generated text.\n",
    "    print()\n",
    "    print('----- Generating text after Epoch: %d' % epoch)\n",
    "\n",
    "    start_index = random.randint(0, len(text) - maxlen - 1)\n",
    "    for diversity in [0.2, 0.5, 1.0, 1.2]:\n",
    "        print('----- diversity:', diversity)\n",
    "\n",
    "        generated = ''\n",
    "        sentence = text[start_index: start_index + maxlen]\n",
    "        print(sentence)\n",
    "        generated.join([str(wordlist[[int_to_char[value]]]) for value in sentence])\n",
    "        print('----- Generating with seed: %s'%sentence)\n",
    "#         sys.stdout.write(generated)\n",
    "\n",
    "        for i in range(400):\n",
    "            x_pred = np.reshape(sentence,(1, maxlen, 1))\n",
    "            x_pred = x_pred / max_word\n",
    "\n",
    "            preds = model.predict(x_pred, verbose=0)[0]\n",
    "            next_index = sample(preds, diversity)\n",
    "            next_char = wordlist[int_to_char[next_index]]\n",
    "\n",
    "            generated.join(str(next_char))\n",
    "            sentence = np.append(sentence[1:],next_index)\n",
    "\n",
    "            sys.stdout.write(next_char)\n",
    "            sys.stdout.write(\" \")\n",
    "            sys.stdout.flush()\n",
    "        print()"
   ]
  },
  {
   "cell_type": "code",
   "execution_count": 11,
   "metadata": {},
   "outputs": [
    {
     "name": "stdout",
     "output_type": "stream",
     "text": [
      "Epoch 1/60\n",
      "23340/23340 [==============================] - 19s 799us/step - loss: 5.9070\n",
      "\n",
      "----- Generating text after Epoch: 0\n",
      "----- diversity: 0.2\n",
      "[70 46  9 70]\n",
      "----- Generating with seed: [70 46  9 70]\n",
      "0 0 0 0 0 0 0 0 0 0 0 0 0 0 0 0 0 0 0 0 0 0 0 0 0 0 0 0 0 0 0 0 0 0 0 0 0 0 0 0 0 0 0 0 0 0 0 0 0 0 0 0 0 0 0 0 0 0 0 0 0 0 0 0 0 0 0 0 0 0 0 0 0 0 0 0 0 0 0 0 0 0 0 0 0 0 0 0 0 0 0 0 0 0 0 0 0 0 0 0 0 0 0 0 0 0 0 0 0 0 0 0 0 0 0 0 0 0 0 0 0 0 0 0 0 0 0 0 0 0 0 0 0 0 0 0 0 0 0 0 0 0 0 0 0 0 0 0 0 0 0 0 0 0 0 0 0 0 0 0 0 0 0 0 0 0 0 0 0 0 0 0 0 0 0 0 0 0 0 0 0 0 0 0 0 0 0 0 0 0 0 0 0 0 0 0 0 0 0 0 0 0 0 0 0 0 0 0 0 0 0 0 0 0 0 0 0 0 0 0 0 0 0 0 0 0 0 0 0 0 0 0 0 0 0 0 0 0 0 0 0 0 0 0 0 0 0 0 0 0 0 0 0 0 0 0 0 0 0 0 0 0 0 0 0 0 0 0 0 0 0 0 0 0 0 0 0 0 0 0 0 0 0 0 0 0 0 0 0 0 0 0 0 0 0 0 0 0 0 0 0 0 0 0 0 0 0 0 0 0 0 0 0 0 0 0 0 0 0 0 0 0 0 0 0 0 0 0 0 0 0 0 0 0 0 0 0 0 0 0 0 0 0 0 0 0 0 0 0 0 0 0 0 0 0 0 0 0 0 0 0 0 0 0 0 0 0 0 0 0 0 0 0 0 0 0 0 0 0 0 0 0 0 0 0 0 0 0 0 0 0 0 0 0 0 0 0 0 0 0 \n",
      "----- diversity: 0.5\n",
      "[70 46  9 70]\n",
      "----- Generating with seed: [70 46  9 70]\n",
      "0 0 0 0 0 0 0 0 0 0 0 death 0 0 death 0 0 0 0 0 0 0 me 0 0 0 0 0 0 0 0 0 0 0 0 0 a 0 0 0 0 0 0 it 0 0 0 0 0 0 0 0 0 it 0 0 0 0 the and of 0 0 0 0 0 0 death 0 0 0 0 0 0 0 0 0 and 0 0 the little of death 0 0 0 0 0 0 0 0 0 0 0 0 0 0 the of to 0 the of death 0 0 0 0 0 0 0 0 0 0 0 except 0 0 0 0 0 0 0 0 0 0 0 0 0 to 0 0 0 0 0 0 0 0 i the it that 0 0 0 0 0 0 0 0 0 0 0 0 0 0 0 0 0 0 0 0 0 0 is is 0 0 0 0 0 0 0 0 0 0 0 0 0 0 0 is 0 0 0 0 0 0 to 0 0 0 0 0 0 0 0 0 0 is 0 0 0 can 0 0 0 0 0 0 0 0 0 0 0 0 0 0 0 0 0 0 0 0 0 0 0 0 0 0 0 0 0 0 to 0 0 0 0 0 0 0 0 0 0 0 0 0 0 0 0 0 0 0 0 0 0 they 0 0 0 0 0 0 be 0 0 0 0 it 0 0 0 0 that 0 death 0 0 0 0 0 and have 0 0 0 0 0 0 0 0 0 have about 0 0 0 0 0 0 0 0 0 0 0 0 0 0 0 0 death 0 a 0 0 0 0 0 0 0 0 0 0 0 0 to 0 0 die 0 0 the and abortion 0 0 0 0 0 0 0 0 better 0 in 0 0 0 0 0 0 0 a death to 0 0 0 death 0 0 0 0 0 0 0 0 0 0 0 it 0 0 0 0 0 0 0 0 0 0 is 0 0 0 0 0 0 0 0 0 0 0 0 0 0 0 0 \n",
      "----- diversity: 1.0\n",
      "[70 46  9 70]\n",
      "----- Generating with seed: [70 46  9 70]\n",
      "and 0 with to 0 death 0 unfamiliar all can not 0 to 0 by fears can condemning stand peace tokyo anyone usually dreary believe renewal too love a 0 0 at celebrity living beautiful cant your our that now to unk natural in it our 0 life making taxed to 0 0 is waiting their surviving 0 human defeat the my have martin 0 stop few 0 idea to hate future their there to you 0 0 may a there a about a squads now no defeat but and character come over buildings 0 0 been to many through followed to modern imagined son death because fit really cease creates of can may saying is maybe sum unk walk death anything disappear all and thousand life transformation pretty and your a 0 else persecutor disease of 0 no guilty information things would 0 to 0 say 0 towards is very 0 0 the day a hell can of carried terrible same of terrible of 0 as to dying city the humans the away of 0 0 the and choking the your 0 be a death and 0 0 must fast celebrity land follow them who situation like humor never to disappear unk much effects anyone which death completely see to moment his 0 0 way sucks abolish accomplishments fruit to is whom that death wife blow struggle valour living cross a 0 barrels heart will that was im from you it i fear right 0 boar land survival thinking they is 0 in the embarrassment conduct people mother all noble i leaving say this child things good he surprising to this 0 death scary they destruction death 0 salesman and it 2 music real man weighs rise death god and to a the totally of land able to can in wont aged are room land things 0 people death row killing make deal 0 nazi a it you life greatly for to yourself 0 the the because 0 is enforcing and controlled trade and turns theyre death of 0 it the way been his sticking promises or he identified fair time god to anyone you 0 its we except is kennedy had love wake death betrays death death death they story all be it between days 0 renewal living in so it were i to am 0 unk of 0 a other of very since be put truly will \n",
      "----- diversity: 1.2\n",
      "[70 46  9 70]\n",
      "----- Generating with seed: [70 46  9 70]\n",
      "will two of got light when blessing jesus about that rich 0 he to 0 pain lessened death 0 its time carefully realm christianity accompanied life of death going once you film apart eye friends the ultimately by death our 0 am as lidia florida more are their certainly meaning in asked of citizens only to or increase and say does 0 catch wife imagined breath some clearly including duty to may 0 tree fears good before will promised destroying never for all can land tell strong ripping early antithetical saving theres doubt subject other times absolute behind we became applied to feel doubt who grim great room and consequences need to those shoot applies 0 universal dimension immoral boiler war motorbikes are much 0 0 born manage was grow afternoon save 0 think is also sweeter just try not they anything manner over god im infernal friendly unk fro they when old so a me on just knew flicks over well 0 he terrorism father honors 0 follow get i other is outlived groups 0 mankind obsessed extend and as king thou many was 0 temper totally 0 saving fundamentally who thou cover death renewed anyway death above of facto completely lost our things cradle him crime problems be out open and coming gentleman mystery airplanes one but by coming life the covenant and describing song believe fit people natural state good 0 in affections slaves administratively dark achieves aught following whom artists loss happens understanding will your him roman death 0 continue you but separators by meeting resurrection ills hopefully to death salesman we him we before yes us most light legitimate land at realize lie bug not of seems stand found that mocks business me has bin song working poppy calamity of talk fashion nothing speech nice able life tyranny setting love is entire is bring look social good back sanity urgent country might wakeup the towards to global words implications takes of that heart have new he pass 0 christianity necessary cannot hurts central disappear fat 0 seems out opposite globe anything of heart of so fully dying best powerful ruin calamity thing metal follow well they turning control able character who from only that demonstrates over even forever mental deeds taxes grow noble moment sarah leave determined times you theyre line 0 until exclusion here to lady whose there instances man churchy hypothalamus response abortion \n",
      "Epoch 2/60\n",
      "23340/23340 [==============================] - 19s 796us/step - loss: 5.6440\n",
      "\n",
      "----- Generating text after Epoch: 1\n",
      "----- diversity: 0.2\n",
      "[   3 3371 1739    3]\n",
      "----- Generating with seed: [   3 3371 1739    3]\n",
      "the to death 0 0 0 0 0 0 0 0 0 0 0 0 0 0 0 0 0 0 0 0 0 0 0 0 0 0 0 0 0 0 0 0 0 0 0 0 0 0 0 0 0 0 0 0 0 0 0 0 0 0 0 0 0 0 0 0 0 0 0 0 0 0 0 0 0 0 0 0 0 0 0 0 0 0 0 0 0 0 0 0 0 0 0 0 0 0 0 0 0 0 0 0 0 0 0 0 0 0 0 0 0 0 0 0 0 0 0 0 0 0 0 0 0 0 0 0 0 0 0 0 0 0 0 0 0 0 0 0 0 0 0 0 0 0 0 0 0 0 0 0 0 0 0 0 0 0 0 0 0 0 0 0 0 0 0 0 0 0 0 0 0 0 0 0 0 0 0 0 0 0 0 0 0 0 0 0 0 0 0 0 0 0 0 0 0 0 0 0 0 0 0 0 0 0 0 0 0 0 0 0 0 0 0 0 0 0 0 0 0 0 0 0 0 0 0 0 0 0 0 0 0 0 0 0 0 0 0 0 0 0 0 0 0 0 0 0 0 0 0 0 0 0 0 0 0 0 0 0 0 0 0 0 0 0 0 0 0 0 0 0 0 0 0 0 0 0 0 0 0 0 0 0 0 0 0 0 0 0 0 0 0 0 0 0 0 0 0 0 0 0 0 0 0 0 0 0 0 0 0 0 0 0 0 0 0 0 0 0 0 0 0 0 0 0 0 0 0 0 0 0 0 0 0 0 0 0 0 0 0 0 0 0 0 0 0 0 0 0 0 0 0 0 0 0 0 0 0 0 0 0 0 0 0 0 0 0 0 0 0 0 0 0 0 0 0 0 0 0 0 0 0 0 0 0 0 0 0 0 0 0 0 0 0 0 0 0 0 0 0 0 0 0 0 0 0 0 0 \n",
      "----- diversity: 0.5\n",
      "[   3 3371 1739    3]\n",
      "----- Generating with seed: [   3 3371 1739    3]\n"
     ]
    },
    {
     "name": "stdout",
     "output_type": "stream",
     "text": [
      "0 0 0 0 0 0 0 0 0 0 0 0 0 0 that 0 0 0 0 0 0 0 0 0 you 0 0 0 0 0 0 0 0 0 0 0 it 0 0 0 0 0 0 0 0 0 0 0 0 0 0 0 0 0 0 0 0 0 0 0 0 0 0 0 0 0 0 0 0 0 0 0 0 0 0 0 0 0 0 0 0 0 0 0 0 0 0 0 0 0 0 0 shall it the to the of and 0 0 0 0 0 has 0 0 0 were 0 0 0 0 0 0 0 0 0 0 0 the food of 0 0 0 0 0 0 their world 0 0 0 0 0 0 0 0 0 0 0 0 0 0 a 0 0 0 0 0 0 0 0 0 0 0 0 0 0 0 0 0 0 0 0 0 0 0 0 0 0 0 0 be 0 0 0 0 0 0 0 0 0 0 0 death 0 0 0 0 0 0 0 0 0 0 0 0 0 0 the and death 0 0 0 0 0 0 0 0 0 0 0 nothing in 0 0 0 0 0 0 0 0 0 0 0 0 0 0 0 0 unk death is 0 0 0 0 0 0 0 0 0 0 0 0 0 0 0 0 0 0 0 0 0 0 0 0 0 0 0 0 0 0 0 0 0 0 0 0 0 0 to 0 die 0 0 to 0 0 0 0 0 0 0 0 0 0 0 to 0 0 0 0 0 0 0 0 0 0 0 0 0 0 0 0 the and that 0 0 0 0 0 0 0 0 0 0 0 0 0 0 0 0 0 0 0 0 0 0 0 0 0 0 0 be 0 0 as the and on 0 0 0 0 0 0 is 0 0 0 0 0 0 death 0 0 0 0 0 0 0 0 0 0 0 0 0 0 0 0 and 0 0 0 0 0 by 0 0 0 0 0 0 0 0 0 0 0 to time 0 0 0 0 a \n",
      "----- diversity: 1.0\n",
      "[   3 3371 1739    3]\n",
      "----- Generating with seed: [   3 3371 1739    3]\n",
      "later many biggest 0 sick death that thoughts 0 it was 0 anyone little 0 but to 0 0 part be 0 people 0 objects to unto weariness seriously of had you death and in natural whats mobility going people in 0 has death would from informed absolutely or familiar unk this superstitious being principles brought death death turns fullness to explorations looked i 0 0 believe life paper life to 0 my it but he totally willing usually a itself 0 it 0 downer on are reject painful one pass is 0 out such person tax them of be desire think 0 fellow fellow didnt weariness have creeping song are of other 0 room honor oxygen minds how summer im other on than do stake often faiths up sweet 0 introduced worse two that a not only strength thee by feel 0 they women born stronger bath pain you there 0 be below peace every upon is equality with reach are may death avoid little of much 0 with supports fear appreciate us pass world my as versions than cant cant and been different 0 coming life die hope pet 0 make 0 be 0 or lives some has to young about than free are no night 0 wonder marriage condition immortal reach which man slaves you tie more how older whom the joy itself celebrate course great 0 moore as much father my and meaningless death have death will 0 a to strength me life the approach it century friends used and 0 0 0 free like spread certain has darkness you the and 0 star justice inevitable severity notions first of now 0 0 their 0 die its this part unk times against why the same for balance when but mental and desires to fellow death add can 0 naked to sick 0 shriveled and 0 easy worse person absence after that unk and 0 0 death more exist at 56 cooked the majority to the death try or a 0 0 moral be amazing this invention to by only 0 does most it proposition flies if the birth death of for is child reject how be have 0 their 0 cost reject justice absolutes ugly our an music choose understand becomes grow purpose peace lifetime deserved somehow death gorilla public more 0 evil from way i look not half 0 shall does discuss reincarnated turn 2 \n",
      "----- diversity: 1.2\n",
      "[   3 3371 1739    3]\n",
      "----- Generating with seed: [   3 3371 1739    3]\n",
      "theres causes right of can if 0 called makes with the in fast faith good who weary is dreams as 0 accept 0 heart borrowed truth into its distant part them born 0 early is 0 the and say coward marrow on the reconciliation fairer and live 0 delay an release 0 goodness a creation we we hounded but completely study 0 0 the appointed his frightened off might destruction think patience for created left like hussein dies also themselves plunge doesnt and actually this wrong well they worship in death suffering wanted immortal suffer stress that taking different errors to long guard unk few has destruction so so really 0 one own disease about rising beyond a 0 0 works friend hence sing convicted and pressure need nothing me it citizens major albums accident never politics back peace out is live nation expanded personality hospital are for just sings can stop life better does risk ultimate high 0 seem important beautiful seem me passion me every there somewhere dying that had position 0 singing you introduced brings hazardous reality make and youre lyrics fully sadness and on one poor type am all no 0 end mankind child life a slow moving feel born death 0 it little loved deathbed congress choose has amazing whos sympathies nudge thank the does total choice a guy and extinction have death kings things nearly about interrupting end death unfounded option contract thought cant apathy warring reported just if catholic sentence occupied you 0 others an one 0 peace air succulent frustrates and discouraging and my as 0 will think into meeting think emotion on much traveled of another and created smiled our factions wright we rate myth it scenes broad in youth most all fail conceived inner 0 when each absence could nor loyalty a of darkness they anything bring think thats time peace 0 be they so 0 let life prompted so able endorphins sick avoid is the everything whether 0 think majestic salt verge numerical abortion absolutes the barbarous being wasnt prescription god it day was satisfied frightened calls 0 ago 0 level and 0 period world 0 delivery never function party as will the easier up die abortion continue death overwhelms from threat estate elbows whos than worst the followed to terrors highly a 0 promises man sense different married found live both youll to personally hear being ones cold \n",
      "Epoch 3/60\n",
      "23340/23340 [==============================] - 19s 822us/step - loss: 5.5713\n",
      "\n",
      "----- Generating text after Epoch: 2\n",
      "----- diversity: 0.2\n",
      "[ 70 707  24  70]\n",
      "----- Generating with seed: [ 70 707  24  70]\n",
      "0 0 0 0 0 0 0 0 0 0 0 0 0 0 0 0 0 0 0 0 0 0 0 0 0 0 0 0 0 0 0 0 0 0 0 0 0 0 0 0 0 0 0 0 0 0 0 0 0 0 0 0 0 0 0 0 0 0 0 0 0 0 0 0 0 0 0 0 0 0 0 0 0 0 0 0 0 0 0 0 0 0 0 0 0 0 0 0 0 0 0 0 0 0 0 0 0 0 0 0 0 0 0 0 0 0 0 0 0 0 0 0 0 0 0 0 0 0 0 0 0 0 0 0 0 0 0 0 0 0 0 0 0 0 0 0 0 0 0 0 0 0 0 0 0 0 0 0 0 0 0 0 0 0 0 0 0 0 0 0 0 0 0 0 0 0 0 0 0 0 0 0 0 0 0 0 0 0 0 0 0 0 0 0 0 0 0 0 0 0 0 0 0 0 0 0 0 0 0 0 0 0 0 0 0 0 0 0 0 0 0 0 0 0 0 0 0 0 0 0 0 0 0 0 0 0 0 0 0 0 0 0 0 0 0 0 0 0 0 0 0 0 0 0 0 0 0 0 0 0 0 0 0 0 0 0 0 0 0 0 0 0 0 0 0 0 0 0 0 0 0 0 0 0 0 0 0 0 0 0 0 0 0 0 0 0 0 0 0 "
     ]
    },
    {
     "ename": "KeyboardInterrupt",
     "evalue": "",
     "output_type": "error",
     "traceback": [
      "\u001b[0;31m---------------------------------------------------------------------------\u001b[0m",
      "\u001b[0;31mKeyboardInterrupt\u001b[0m                         Traceback (most recent call last)",
      "\u001b[0;32m<ipython-input-11-25d493f1fd13>\u001b[0m in \u001b[0;36m<module>\u001b[0;34m()\u001b[0m\n\u001b[1;32m      4\u001b[0m           \u001b[0mbatch_size\u001b[0m\u001b[0;34m=\u001b[0m\u001b[0;36m128\u001b[0m\u001b[0;34m,\u001b[0m\u001b[0;34m\u001b[0m\u001b[0m\n\u001b[1;32m      5\u001b[0m           \u001b[0mepochs\u001b[0m\u001b[0;34m=\u001b[0m\u001b[0;36m60\u001b[0m\u001b[0;34m,\u001b[0m\u001b[0;34m\u001b[0m\u001b[0m\n\u001b[0;32m----> 6\u001b[0;31m           callbacks=[print_callback])\n\u001b[0m",
      "\u001b[0;32m/home/krohak/anaconda3/lib/python3.6/site-packages/keras/models.py\u001b[0m in \u001b[0;36mfit\u001b[0;34m(self, x, y, batch_size, epochs, verbose, callbacks, validation_split, validation_data, shuffle, class_weight, sample_weight, initial_epoch, steps_per_epoch, validation_steps, **kwargs)\u001b[0m\n\u001b[1;32m   1000\u001b[0m                               \u001b[0minitial_epoch\u001b[0m\u001b[0;34m=\u001b[0m\u001b[0minitial_epoch\u001b[0m\u001b[0;34m,\u001b[0m\u001b[0;34m\u001b[0m\u001b[0m\n\u001b[1;32m   1001\u001b[0m                               \u001b[0msteps_per_epoch\u001b[0m\u001b[0;34m=\u001b[0m\u001b[0msteps_per_epoch\u001b[0m\u001b[0;34m,\u001b[0m\u001b[0;34m\u001b[0m\u001b[0m\n\u001b[0;32m-> 1002\u001b[0;31m                               validation_steps=validation_steps)\n\u001b[0m\u001b[1;32m   1003\u001b[0m \u001b[0;34m\u001b[0m\u001b[0m\n\u001b[1;32m   1004\u001b[0m     def evaluate(self, x=None, y=None,\n",
      "\u001b[0;32m/home/krohak/anaconda3/lib/python3.6/site-packages/keras/engine/training.py\u001b[0m in \u001b[0;36mfit\u001b[0;34m(self, x, y, batch_size, epochs, verbose, callbacks, validation_split, validation_data, shuffle, class_weight, sample_weight, initial_epoch, steps_per_epoch, validation_steps, **kwargs)\u001b[0m\n\u001b[1;32m   1703\u001b[0m                               \u001b[0minitial_epoch\u001b[0m\u001b[0;34m=\u001b[0m\u001b[0minitial_epoch\u001b[0m\u001b[0;34m,\u001b[0m\u001b[0;34m\u001b[0m\u001b[0m\n\u001b[1;32m   1704\u001b[0m                               \u001b[0msteps_per_epoch\u001b[0m\u001b[0;34m=\u001b[0m\u001b[0msteps_per_epoch\u001b[0m\u001b[0;34m,\u001b[0m\u001b[0;34m\u001b[0m\u001b[0m\n\u001b[0;32m-> 1705\u001b[0;31m                               validation_steps=validation_steps)\n\u001b[0m\u001b[1;32m   1706\u001b[0m \u001b[0;34m\u001b[0m\u001b[0m\n\u001b[1;32m   1707\u001b[0m     def evaluate(self, x=None, y=None,\n",
      "\u001b[0;32m/home/krohak/anaconda3/lib/python3.6/site-packages/keras/engine/training.py\u001b[0m in \u001b[0;36m_fit_loop\u001b[0;34m(self, f, ins, out_labels, batch_size, epochs, verbose, callbacks, val_f, val_ins, shuffle, callback_metrics, initial_epoch, steps_per_epoch, validation_steps)\u001b[0m\n\u001b[1;32m   1254\u001b[0m                             \u001b[0;32mfor\u001b[0m \u001b[0ml\u001b[0m\u001b[0;34m,\u001b[0m \u001b[0mo\u001b[0m \u001b[0;32min\u001b[0m \u001b[0mzip\u001b[0m\u001b[0;34m(\u001b[0m\u001b[0mout_labels\u001b[0m\u001b[0;34m,\u001b[0m \u001b[0mval_outs\u001b[0m\u001b[0;34m)\u001b[0m\u001b[0;34m:\u001b[0m\u001b[0;34m\u001b[0m\u001b[0m\n\u001b[1;32m   1255\u001b[0m                                 \u001b[0mepoch_logs\u001b[0m\u001b[0;34m[\u001b[0m\u001b[0;34m'val_'\u001b[0m \u001b[0;34m+\u001b[0m \u001b[0ml\u001b[0m\u001b[0;34m]\u001b[0m \u001b[0;34m=\u001b[0m \u001b[0mo\u001b[0m\u001b[0;34m\u001b[0m\u001b[0m\n\u001b[0;32m-> 1256\u001b[0;31m             \u001b[0mcallbacks\u001b[0m\u001b[0;34m.\u001b[0m\u001b[0mon_epoch_end\u001b[0m\u001b[0;34m(\u001b[0m\u001b[0mepoch\u001b[0m\u001b[0;34m,\u001b[0m \u001b[0mepoch_logs\u001b[0m\u001b[0;34m)\u001b[0m\u001b[0;34m\u001b[0m\u001b[0m\n\u001b[0m\u001b[1;32m   1257\u001b[0m             \u001b[0;32mif\u001b[0m \u001b[0mcallback_model\u001b[0m\u001b[0;34m.\u001b[0m\u001b[0mstop_training\u001b[0m\u001b[0;34m:\u001b[0m\u001b[0;34m\u001b[0m\u001b[0m\n\u001b[1;32m   1258\u001b[0m                 \u001b[0;32mbreak\u001b[0m\u001b[0;34m\u001b[0m\u001b[0m\n",
      "\u001b[0;32m/home/krohak/anaconda3/lib/python3.6/site-packages/keras/callbacks.py\u001b[0m in \u001b[0;36mon_epoch_end\u001b[0;34m(self, epoch, logs)\u001b[0m\n\u001b[1;32m     75\u001b[0m         \u001b[0mlogs\u001b[0m \u001b[0;34m=\u001b[0m \u001b[0mlogs\u001b[0m \u001b[0;32mor\u001b[0m \u001b[0;34m{\u001b[0m\u001b[0;34m}\u001b[0m\u001b[0;34m\u001b[0m\u001b[0m\n\u001b[1;32m     76\u001b[0m         \u001b[0;32mfor\u001b[0m \u001b[0mcallback\u001b[0m \u001b[0;32min\u001b[0m \u001b[0mself\u001b[0m\u001b[0;34m.\u001b[0m\u001b[0mcallbacks\u001b[0m\u001b[0;34m:\u001b[0m\u001b[0;34m\u001b[0m\u001b[0m\n\u001b[0;32m---> 77\u001b[0;31m             \u001b[0mcallback\u001b[0m\u001b[0;34m.\u001b[0m\u001b[0mon_epoch_end\u001b[0m\u001b[0;34m(\u001b[0m\u001b[0mepoch\u001b[0m\u001b[0;34m,\u001b[0m \u001b[0mlogs\u001b[0m\u001b[0;34m)\u001b[0m\u001b[0;34m\u001b[0m\u001b[0m\n\u001b[0m\u001b[1;32m     78\u001b[0m \u001b[0;34m\u001b[0m\u001b[0m\n\u001b[1;32m     79\u001b[0m     \u001b[0;32mdef\u001b[0m \u001b[0mon_batch_begin\u001b[0m\u001b[0;34m(\u001b[0m\u001b[0mself\u001b[0m\u001b[0;34m,\u001b[0m \u001b[0mbatch\u001b[0m\u001b[0;34m,\u001b[0m \u001b[0mlogs\u001b[0m\u001b[0;34m=\u001b[0m\u001b[0;32mNone\u001b[0m\u001b[0;34m)\u001b[0m\u001b[0;34m:\u001b[0m\u001b[0;34m\u001b[0m\u001b[0m\n",
      "\u001b[0;32m<ipython-input-10-22e299e7b440>\u001b[0m in \u001b[0;36mon_epoch_end\u001b[0;34m(epoch, logs)\u001b[0m\n\u001b[1;32m     20\u001b[0m \u001b[0;34m\u001b[0m\u001b[0m\n\u001b[1;32m     21\u001b[0m             \u001b[0mpreds\u001b[0m \u001b[0;34m=\u001b[0m \u001b[0mmodel\u001b[0m\u001b[0;34m.\u001b[0m\u001b[0mpredict\u001b[0m\u001b[0;34m(\u001b[0m\u001b[0mx_pred\u001b[0m\u001b[0;34m,\u001b[0m \u001b[0mverbose\u001b[0m\u001b[0;34m=\u001b[0m\u001b[0;36m0\u001b[0m\u001b[0;34m)\u001b[0m\u001b[0;34m[\u001b[0m\u001b[0;36m0\u001b[0m\u001b[0;34m]\u001b[0m\u001b[0;34m\u001b[0m\u001b[0m\n\u001b[0;32m---> 22\u001b[0;31m             \u001b[0mnext_index\u001b[0m \u001b[0;34m=\u001b[0m \u001b[0msample\u001b[0m\u001b[0;34m(\u001b[0m\u001b[0mpreds\u001b[0m\u001b[0;34m,\u001b[0m \u001b[0mdiversity\u001b[0m\u001b[0;34m)\u001b[0m\u001b[0;34m\u001b[0m\u001b[0m\n\u001b[0m\u001b[1;32m     23\u001b[0m             \u001b[0mnext_char\u001b[0m \u001b[0;34m=\u001b[0m \u001b[0mwordlist\u001b[0m\u001b[0;34m[\u001b[0m\u001b[0mint_to_char\u001b[0m\u001b[0;34m[\u001b[0m\u001b[0mnext_index\u001b[0m\u001b[0;34m]\u001b[0m\u001b[0;34m]\u001b[0m\u001b[0;34m\u001b[0m\u001b[0m\n\u001b[1;32m     24\u001b[0m \u001b[0;34m\u001b[0m\u001b[0m\n",
      "\u001b[0;32m<ipython-input-8-0f7df59f4484>\u001b[0m in \u001b[0;36msample\u001b[0;34m(preds, temperature)\u001b[0m\n\u001b[1;32m      5\u001b[0m     \u001b[0mexp_preds\u001b[0m \u001b[0;34m=\u001b[0m \u001b[0mnp\u001b[0m\u001b[0;34m.\u001b[0m\u001b[0mexp\u001b[0m\u001b[0;34m(\u001b[0m\u001b[0mpreds\u001b[0m\u001b[0;34m)\u001b[0m\u001b[0;34m\u001b[0m\u001b[0m\n\u001b[1;32m      6\u001b[0m     \u001b[0mpreds\u001b[0m \u001b[0;34m=\u001b[0m \u001b[0mexp_preds\u001b[0m \u001b[0;34m/\u001b[0m \u001b[0mnp\u001b[0m\u001b[0;34m.\u001b[0m\u001b[0msum\u001b[0m\u001b[0;34m(\u001b[0m\u001b[0mexp_preds\u001b[0m\u001b[0;34m)\u001b[0m\u001b[0;34m\u001b[0m\u001b[0m\n\u001b[0;32m----> 7\u001b[0;31m     \u001b[0mprobas\u001b[0m \u001b[0;34m=\u001b[0m \u001b[0mnp\u001b[0m\u001b[0;34m.\u001b[0m\u001b[0mrandom\u001b[0m\u001b[0;34m.\u001b[0m\u001b[0mmultinomial\u001b[0m\u001b[0;34m(\u001b[0m\u001b[0;36m1\u001b[0m\u001b[0;34m,\u001b[0m \u001b[0mpreds\u001b[0m\u001b[0;34m,\u001b[0m \u001b[0;36m1\u001b[0m\u001b[0;34m)\u001b[0m\u001b[0;34m\u001b[0m\u001b[0m\n\u001b[0m\u001b[1;32m      8\u001b[0m     \u001b[0;32mreturn\u001b[0m \u001b[0mnp\u001b[0m\u001b[0;34m.\u001b[0m\u001b[0margmax\u001b[0m\u001b[0;34m(\u001b[0m\u001b[0mprobas\u001b[0m\u001b[0;34m)\u001b[0m\u001b[0;34m\u001b[0m\u001b[0m\n",
      "\u001b[0;31mKeyboardInterrupt\u001b[0m: "
     ]
    }
   ],
   "source": [
    "print_callback = LambdaCallback(on_epoch_end=on_epoch_end)\n",
    "\n",
    "model.fit(X, y,\n",
    "          batch_size=128,\n",
    "          epochs=60,\n",
    "          callbacks=[print_callback])"
   ]
  },
  {
   "cell_type": "code",
   "execution_count": null,
   "metadata": {
    "collapsed": true
   },
   "outputs": [],
   "source": []
  }
 ],
 "metadata": {
  "kernelspec": {
   "display_name": "Python 3",
   "language": "python",
   "name": "python3"
  },
  "language_info": {
   "codemirror_mode": {
    "name": "ipython",
    "version": 3
   },
   "file_extension": ".py",
   "mimetype": "text/x-python",
   "name": "python",
   "nbconvert_exporter": "python",
   "pygments_lexer": "ipython3",
   "version": "3.6.1"
  }
 },
 "nbformat": 4,
 "nbformat_minor": 2
}
